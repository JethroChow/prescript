{
 "cells": [
  {
   "cell_type": "code",
   "execution_count": null,
   "id": "efacd564-13d9-4c1c-bedc-309e7cba96a3",
   "metadata": {},
   "outputs": [],
   "source": [
    "\"\"\"\n",
    "all 512-size-data to 224-size-datae\n",
    "\"\"\"\n",
    "\n",
    "import os\n",
    "from pathlib import Path\n",
    "from PIL import Image\n",
    "from tqdm import tqdm\n",
    "\n",
    "# Define the source and target directories\n",
    "source_dir = ''\n",
    "target_dir = ''\n",
    "\n",
    "# Create the target directory\n",
    "Path(target_dir).mkdir(parents=True, exist_ok=True)\n",
    "\n",
    "def resize_image(image_path, output_folder, size=(224, 224)):\n",
    "    \"\"\"\n",
    "    Resize a single image and save it to the output folder.\n",
    "    \"\"\"\n",
    "    # Open the image\n",
    "    img = Image.open(image_path)\n",
    "    # Resize the image\n",
    "    img_resized = img.resize(size, Image.ANTIALIAS)\n",
    "    # Construct the target image path\n",
    "    target_image_path = os.path.join(output_folder, os.path.basename(image_path))\n",
    "    # Save the resized image\n",
    "    img_resized.save(target_image_path)\n",
    "    img.close()\n",
    "\n",
    "def resize_images_in_subfolder(subfolder_path, output_folder):\n",
    "    \"\"\"\n",
    "    Resize all images in a subfolder and save them to the corresponding output subfolder.\n",
    "    \"\"\"\n",
    "    # List all image files in the subfolder\n",
    "    image_files = [f for f in os.listdir(subfolder_path) if os.path.isfile(os.path.join(subfolder_path, f))]\n",
    "    # Create the output subfolder if it doesn't exist\n",
    "    Path(output_folder).mkdir(parents=True, exist_ok=True)\n",
    "    # Resize all images\n",
    "    for image_file in tqdm(image_files, desc=f\"Processing {os.path.basename(subfolder_path)}\"):\n",
    "        image_path = os.path.join(subfolder_path, image_file)\n",
    "        resize_image(image_path, output_folder)\n",
    "\n",
    "# List all subfolders in the source directory\n",
    "subfolders = [f for f in os.listdir(source_dir) if os.path.isdir(os.path.join(source_dir, f))]\n",
    "\n",
    "# Process all subfolders\n",
    "for subfolder in subfolders:\n",
    "    subfolder_path = os.path.join(source_dir, subfolder)\n",
    "    output_subfolder = os.path.join(target_dir, subfolder)\n",
    "    resize_images_in_subfolder(subfolder_path, output_subfolder)\n",
    "\n",
    "print(\"Resizing completed.\")\n"
   ]
  }
 ],
 "metadata": {
  "kernelspec": {
   "display_name": "Python 3 (ipykernel)",
   "language": "python",
   "name": "python3"
  },
  "language_info": {
   "codemirror_mode": {
    "name": "ipython",
    "version": 3
   },
   "file_extension": ".py",
   "mimetype": "text/x-python",
   "name": "python",
   "nbconvert_exporter": "python",
   "pygments_lexer": "ipython3",
   "version": "3.11.5"
  }
 },
 "nbformat": 4,
 "nbformat_minor": 5
}

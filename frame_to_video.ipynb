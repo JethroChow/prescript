{
 "cells": [
  {
   "cell_type": "code",
   "execution_count": null,
   "id": "d89881ad-079e-4f16-9f92-3bccdaa9b1b9",
   "metadata": {},
   "outputs": [],
   "source": [
    "# frame to video\n",
    "from moviepy.editor import VideoFileClip\n",
    "from moviepy.editor import *   \n",
    "import moviepy.editor as mp\n",
    "from datetime import datetime\n",
    "import os\n",
    "import glob\n",
    "\n",
    "frame_file = ''\n",
    "video_name = ''\n",
    "crop_size = 224\n",
    "path = os.path.join(frame_file, '*.jpg')\n",
    "\n",
    "\n",
    "image_filenames = sorted(glob.glob(path))\n",
    "clips = ImageSequenceClip(image_filenames, fps=30)\n",
    "current_time = datetime.now()\n",
    "clips.write_videofile(\"./{}_{}_{:%Y-%m-%d %H:%M:%S}.mp4\".format(video_name, crop_size, current_time ), audio_codec='aac')"
   ]
  }
 ],
 "metadata": {
  "kernelspec": {
   "display_name": "Python 3 (ipykernel)",
   "language": "python",
   "name": "python3"
  },
  "language_info": {
   "codemirror_mode": {
    "name": "ipython",
    "version": 3
   },
   "file_extension": ".py",
   "mimetype": "text/x-python",
   "name": "python",
   "nbconvert_exporter": "python",
   "pygments_lexer": "ipython3",
   "version": "3.11.5"
  }
 },
 "nbformat": 4,
 "nbformat_minor": 5
}

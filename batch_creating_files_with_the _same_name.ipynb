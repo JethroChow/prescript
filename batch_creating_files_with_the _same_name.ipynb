{
 "cells": [
  {
   "cell_type": "code",
   "execution_count": null,
   "id": "51e8dcbb-31f0-4e39-81b3-5ea44933afb0",
   "metadata": {},
   "outputs": [],
   "source": [
    "import os\n",
    "import shutil\n",
    "\n",
    "def reorganize_and_rename_images(parent_folder, target_folder):\n",
    "    if not os.path.exists(target_folder):\n",
    "        os.makedirs(target_folder)\n",
    "\n",
    "    # 初始化计数器\n",
    "    counter = 0\n",
    "\n",
    "    # 遍历父文件夹中的所有子文件夹\n",
    "    for subdir, dirs, files in os.walk(parent_folder):\n",
    "        for file in files:\n",
    "            # 检查文件是否为.jpg格式\n",
    "            if file.endswith(\".jpg\"):\n",
    "                # 构建源文件的完整路径\n",
    "                source_file = os.path.join(subdir, file)\n",
    "\n",
    "                # 构建目标文件的新文件名和完整路径\n",
    "                new_file_name = f\"{counter:06d}.jpg\"\n",
    "                target_file = os.path.join(target_folder, new_file_name)\n",
    "\n",
    "                # 复制并重命名文件\n",
    "                shutil.copy2(source_file, target_file)\n",
    "\n",
    "                # 更新计数器\n",
    "                counter += 1\n",
    "\n",
    "    print(f\"Copied and renamed {counter} files.\")\n",
    "\n",
    "reorganize_and_rename_images(\"\", \"\")"
   ]
  }
 ],
 "metadata": {
  "kernelspec": {
   "display_name": "Python 3 (ipykernel)",
   "language": "python",
   "name": "python3"
  },
  "language_info": {
   "codemirror_mode": {
    "name": "ipython",
    "version": 3
   },
   "file_extension": ".py",
   "mimetype": "text/x-python",
   "name": "python",
   "nbconvert_exporter": "python",
   "pygments_lexer": "ipython3",
   "version": "3.11.5"
  }
 },
 "nbformat": 4,
 "nbformat_minor": 5
}

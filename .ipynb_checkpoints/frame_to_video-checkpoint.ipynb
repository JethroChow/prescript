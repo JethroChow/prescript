{
 "cells": [
  {
   "cell_type": "code",
   "execution_count": 4,
   "id": "d89881ad-079e-4f16-9f92-3bccdaa9b1b9",
   "metadata": {},
   "outputs": [],
   "source": [
    "import cv2\n",
    "import os\n",
    "import numpy as np\n",
    "import re\n",
    "\n",
    "def sort_key(s):\n",
    "    \"\"\" 按照文件名中的数字进行排序 \"\"\"\n",
    "    return [int(text) if text.isdigit() else text.lower() for text in re.split('([0-9]+)', s)]\n",
    "\n",
    "def create_video_from_images(folder_path, output_file, fps=30):\n",
    "    images = [img for img in os.listdir(folder_path) if img.endswith(\".jpg\") or img.endswith(\".png\")]\n",
    "    images.sort(key=sort_key)  # 使用自定义的排序函数\n",
    "\n",
    "    # 读取第一张图片来确定视频的分辨率\n",
    "    frame = cv2.imread(os.path.join(folder_path, images[0]))\n",
    "    height, width, layers = frame.shape\n",
    "\n",
    "    # 定义视频编码器和视频输出\n",
    "    fourcc = cv2.VideoWriter_fourcc(*'mp4v')  \n",
    "    video = cv2.VideoWriter(output_file, fourcc, fps, (width, height))\n",
    "\n",
    "    for image in images:\n",
    "        video.write(cv2.imread(os.path.join(folder_path, image)))\n",
    "\n",
    "    cv2.destroyAllWindows()\n",
    "    video.release()\n",
    "\n",
    "# 使用示例\n",
    "create_video_from_images('', 'output_video.mp4', 30)\n",
    "\n"
   ]
  },
  {
   "cell_type": "code",
   "execution_count": null,
   "id": "f5c42169-44b8-442f-8f8c-aef273d5e066",
   "metadata": {},
   "outputs": [],
   "source": []
  }
 ],
 "metadata": {
  "kernelspec": {
   "display_name": "faceswap",
   "language": "python",
   "name": "faceswap"
  },
  "language_info": {
   "codemirror_mode": {
    "name": "ipython",
    "version": 3
   },
   "file_extension": ".py",
   "mimetype": "text/x-python",
   "name": "python",
   "nbconvert_exporter": "python",
   "pygments_lexer": "ipython3",
   "version": "3.8.18"
  }
 },
 "nbformat": 4,
 "nbformat_minor": 5
}

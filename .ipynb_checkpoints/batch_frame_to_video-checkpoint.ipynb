{
 "cells": [
  {
   "cell_type": "code",
   "execution_count": null,
   "id": "73c10c01-ec51-4c90-8474-0f65ddd6182a",
   "metadata": {},
   "outputs": [],
   "source": [
    "import cv2\n",
    "import os\n",
    "import re\n",
    "\n",
    "def sort_key(s):\n",
    "    \"\"\" 按照文件名中的数字进行排序 \"\"\"\n",
    "    return [int(text) if text.isdigit() else text.lower() for text in re.split('([0-9]+)', s)]\n",
    "\n",
    "def create_video_from_images(folder_path, output_file, fps=30):\n",
    "    images = [img for img in os.listdir(folder_path) if img.endswith(\".jpg\") or img.endswith(\".png\")]\n",
    "    images.sort(key=sort_key)  # 使用自定义的排序函数\n",
    "\n",
    "    # 读取第一张图片来确定视频的分辨率\n",
    "    frame = cv2.imread(os.path.join(folder_path, images[0]))\n",
    "    height, width, layers = frame.shape\n",
    "\n",
    "    # 定义视频编码器和视频输出\n",
    "    fourcc = cv2.VideoWriter_fourcc(*'mp4v')  \n",
    "    video = cv2.VideoWriter(output_file, fourcc, fps, (width, height))\n",
    "\n",
    "    for image in images:\n",
    "        video.write(cv2.imread(os.path.join(folder_path, image)))\n",
    "\n",
    "    video.release()\n",
    "\n",
    "def batch_process_videos(data_up_dir, video_up_dir, fps=30):\n",
    "    if not os.path.exists(video_up_dir):\n",
    "        os.makedirs(video_up_dir)\n",
    "\n",
    "    for folder in sorted(os.listdir(data_up_dir)):\n",
    "        folder_path = os.path.join(data_up_dir, folder)\n",
    "        if os.path.isdir(folder_path):\n",
    "            output_file = os.path.join(video_up_dir, f\"{folder}_up.mp4\")\n",
    "            print(f\"Creating video for folder: {folder_path}\")\n",
    "            create_video_from_images(folder_path, output_file, fps)\n",
    "            print(f\"Video created: {output_file}\")\n",
    "\n",
    "\n",
    "\n",
    "data_up_dir = ''  \n",
    "video_up_dir = ''  \n",
    "batch_process_videos(data_up_dir, video_up_dir, fps=30)\n"
   ]
  },
  {
   "cell_type": "code",
   "execution_count": null,
   "id": "7ae42824-e522-4c56-a360-0f19f785fe48",
   "metadata": {},
   "outputs": [],
   "source": []
  }
 ],
 "metadata": {
  "kernelspec": {
   "display_name": "benchmark",
   "language": "python",
   "name": "benchmark"
  },
  "language_info": {
   "codemirror_mode": {
    "name": "ipython",
    "version": 3
   },
   "file_extension": ".py",
   "mimetype": "text/x-python",
   "name": "python",
   "nbconvert_exporter": "python",
   "pygments_lexer": "ipython3",
   "version": "3.8.18"
  }
 },
 "nbformat": 4,
 "nbformat_minor": 5
}

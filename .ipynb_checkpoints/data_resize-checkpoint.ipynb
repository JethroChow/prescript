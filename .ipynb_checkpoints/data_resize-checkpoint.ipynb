{
 "cells": [
  {
   "cell_type": "code",
   "execution_count": null,
   "id": "98f01f00-39b5-4d02-b75d-2d9fd2c9a4c7",
   "metadata": {},
   "outputs": [],
   "source": [
    "# all resize\n",
    "\n",
    "import os\n",
    "from PIL import Image\n",
    "\n",
    "def resize_images_in_directory(directory_path, size=(512, 512)):\n",
    "    # 遍历目录中的所有文件\n",
    "    for filename in os.listdir(directory_path):\n",
    "        if filename.lower().endswith(('.png', '.jpg', '.jpeg', '.bmp', '.gif', '.tiff')):\n",
    "            file_path = os.path.join(directory_path, filename)\n",
    "            with Image.open(file_path) as img:\n",
    "                # 调整图像大小\n",
    "                resized_img = img.resize(size, Image.ANTIALIAS)\n",
    "                # 保存调整后的图像覆盖原文件\n",
    "                resized_img.save(file_path)\n",
    "\n",
    "directory_path = '' \n",
    "resize_images_in_directory(directory_path)\n",
    "print('done!')"
   ]
  }
 ],
 "metadata": {
  "kernelspec": {
   "display_name": "Python 3 (ipykernel)",
   "language": "python",
   "name": "python3"
  },
  "language_info": {
   "codemirror_mode": {
    "name": "ipython",
    "version": 3
   },
   "file_extension": ".py",
   "mimetype": "text/x-python",
   "name": "python",
   "nbconvert_exporter": "python",
   "pygments_lexer": "ipython3",
   "version": "3.11.5"
  }
 },
 "nbformat": 4,
 "nbformat_minor": 5
}

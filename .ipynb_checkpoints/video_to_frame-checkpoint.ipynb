{
 "cells": [
  {
   "cell_type": "code",
   "execution_count": null,
   "id": "7532d55e-8918-43de-865e-472c3570153a",
   "metadata": {},
   "outputs": [],
   "source": [
    "import cv2\n",
    "import os\n",
    "\n",
    "def video_to_frames(video_path, frames_dir):\n",
    "    # 使用OpenCV读取视频\n",
    "    vidcap = cv2.VideoCapture(video_path)\n",
    "    success, image = vidcap.read()\n",
    "    count = 0\n",
    "\n",
    "    if not os.path.exists(frames_dir):\n",
    "        os.makedirs(frames_dir)\n",
    "\n",
    "    while success:\n",
    "        # 保存当前帧为JPEG文件\n",
    "        cv2.imwrite(os.path.join(frames_dir, f\"frame{count}.jpg\"), image)     \n",
    "        success, image = vidcap.read()\n",
    "        count += 1\n",
    "\n",
    "    print(f\"视频已转换为 {count} 帧图像，保存在 {frames_dir} 目录中。\")\n",
    "\n",
    "\n",
    "video_path = '' \n",
    "frames_dir = ''  \n",
    "video_to_frames(video_path, frames_dir)\n"
   ]
  },
  {
   "cell_type": "code",
   "execution_count": null,
   "id": "22eb8501-c238-4c86-9610-42ebcb9066d7",
   "metadata": {},
   "outputs": [],
   "source": []
  }
 ],
 "metadata": {
  "kernelspec": {
   "display_name": "faceswap",
   "language": "python",
   "name": "faceswap"
  },
  "language_info": {
   "codemirror_mode": {
    "name": "ipython",
    "version": 3
   },
   "file_extension": ".py",
   "mimetype": "text/x-python",
   "name": "python",
   "nbconvert_exporter": "python",
   "pygments_lexer": "ipython3",
   "version": "3.8.18"
  }
 },
 "nbformat": 4,
 "nbformat_minor": 5
}

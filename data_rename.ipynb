{
 "cells": [
  {
   "cell_type": "code",
   "execution_count": 7,
   "id": "72243821-f008-4efa-89ac-56e2c9d6c9fd",
   "metadata": {},
   "outputs": [
    {
     "name": "stdout",
     "output_type": "stream",
     "text": [
      "Renamed 49 files.\n"
     ]
    }
   ],
   "source": [
    "# all rename \n",
    "import os\n",
    "import glob\n",
    "\n",
    "def rename_images(folder_path):\n",
    "    # 定义支持的图像文件格式\n",
    "    supported_formats = [\"*.jpg\", \"*.png\",\"*.jpeg\",\"*.webp\"]\n",
    "\n",
    "    # 初始化计数器\n",
    "    counter = 1\n",
    "\n",
    "    # 遍历所有支持的文件格式\n",
    "    for format in supported_formats:\n",
    "        # 使用glob遍历当前格式的所有文件\n",
    "        for file_path in glob.glob(os.path.join(folder_path, format)):\n",
    "            # 创建新文件名，格式为 \"0001.jpg\", \"0002.jpg\" 等\n",
    "            new_file_name = f\"{counter:04d}\" + \".jpg\"\n",
    "\n",
    "            # 构建新文件的完整路径\n",
    "            new_file_path = os.path.join(folder_path, new_file_name)\n",
    "\n",
    "            # 重命名文件\n",
    "            os.rename(file_path, new_file_path)\n",
    "\n",
    "            # 更新计数器\n",
    "            counter += 1\n",
    "\n",
    "    print(f\"Renamed {counter - 1} files.\")\n",
    "\n",
    "# 使用示例\n",
    "rename_images(\"./temp/source_image\")"
   ]
  }
 ],
 "metadata": {
  "kernelspec": {
   "display_name": "Python 3 (ipykernel)",
   "language": "python",
   "name": "python3"
  },
  "language_info": {
   "codemirror_mode": {
    "name": "ipython",
    "version": 3
   },
   "file_extension": ".py",
   "mimetype": "text/x-python",
   "name": "python",
   "nbconvert_exporter": "python",
   "pygments_lexer": "ipython3",
   "version": "3.11.5"
  }
 },
 "nbformat": 4,
 "nbformat_minor": 5
}

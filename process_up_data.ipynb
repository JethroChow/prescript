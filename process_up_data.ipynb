{
 "cells": [
  {
   "cell_type": "code",
   "execution_count": null,
   "id": "da08310e-900b-47b9-b6f7-7e6e5d468aee",
   "metadata": {},
   "outputs": [],
   "source": [
    "import os\n",
    "import shutil\n",
    "\n",
    "def clean_and_move_subdirectories(parent_dir):\n",
    "    # 删除指定的子文件夹\n",
    "    for subfolder in ['cmp', 'cropped_faces', 'restored_faces']:\n",
    "        subfolder_path = os.path.join(parent_dir, subfolder)\n",
    "        if os.path.exists(subfolder_path):\n",
    "            shutil.rmtree(subfolder_path)\n",
    "            print(f\"Deleted folder: {subfolder_path}\")\n",
    "\n",
    "    # 移动restored_imgs文件夹中的文件到父目录\n",
    "    restored_imgs_path = os.path.join(parent_dir, 'restored_imgs')\n",
    "    if os.path.exists(restored_imgs_path):\n",
    "        for file in os.listdir(restored_imgs_path):\n",
    "            file_path = os.path.join(restored_imgs_path, file)\n",
    "            if os.path.isfile(file_path):\n",
    "                shutil.move(file_path, parent_dir)\n",
    "                print(f\"Moved file: {file_path} to {parent_dir}\")\n",
    "\n",
    "def process_frame_up_directory(frame_up_dir):\n",
    "    # 遍历frame_up目录下的每个子目录（即80个父目录）\n",
    "    for sub_dir in os.listdir(frame_up_dir):\n",
    "        sub_dir_path = os.path.join(frame_up_dir, sub_dir)\n",
    "        if os.path.isdir(sub_dir_path):\n",
    "            clean_and_move_subdirectories(sub_dir_path)\n",
    "\n",
    "# 使用函数\n",
    "frame_up_dir = ''  \n",
    "process_frame_up_directory(frame_up_dir)"
   ]
  },
  {
   "cell_type": "code",
   "execution_count": null,
   "id": "9ac93375-f9da-4baf-8731-fe051ceb83b5",
   "metadata": {},
   "outputs": [],
   "source": [
    "def delete_restored_imgs(frame_up_dir):\n",
    "    for sub_dir in os.listdir(frame_up_dir):\n",
    "        sub_dir_path = os.path.join(frame_up_dir, sub_dir)\n",
    "        restored_imgs_path = os.path.join(sub_dir_path, 'restored_imgs')\n",
    "        if os.path.isdir(restored_imgs_path):\n",
    "            shutil.rmtree(restored_imgs_path)\n",
    "            print(f\"Deleted folder: {restored_imgs_path}\")\n",
    "# 使用函数\n",
    "frame_up_dir = '/home/tides/dataup/GFPGAN/frame_up' \n",
    "delete_restored_imgs(frame_up_dir)"
   ]
  }
 ],
 "metadata": {
  "kernelspec": {
   "display_name": "faceswap",
   "language": "python",
   "name": "faceswap"
  },
  "language_info": {
   "codemirror_mode": {
    "name": "ipython",
    "version": 3
   },
   "file_extension": ".py",
   "mimetype": "text/x-python",
   "name": "python",
   "nbconvert_exporter": "python",
   "pygments_lexer": "ipython3",
   "version": "3.8.18"
  }
 },
 "nbformat": 4,
 "nbformat_minor": 5
}

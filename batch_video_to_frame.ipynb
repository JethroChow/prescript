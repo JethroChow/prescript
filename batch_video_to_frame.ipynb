{
 "cells": [
  {
   "cell_type": "code",
   "execution_count": null,
   "id": "0265534a-665a-4ba1-9c6e-3d81ec16b4ec",
   "metadata": {},
   "outputs": [],
   "source": [
    "import cv2\n",
    "import os\n",
    "from pathlib import Path\n",
    "\n",
    "def video_to_frames(video_path, frames_dir):\n",
    "    # 使用OpenCV读取视频\n",
    "    vidcap = cv2.VideoCapture(str(video_path))\n",
    "    success, image = vidcap.read()\n",
    "    count = 0\n",
    "\n",
    "    frames_dir = Path(frames_dir)\n",
    "    if not frames_dir.exists():\n",
    "        frames_dir.mkdir(parents=True, exist_ok=True)\n",
    "\n",
    "    while success:\n",
    "        # 保存当前帧为JPEG文件\n",
    "        frame_path = frames_dir / f\"frame{count}.jpg\"\n",
    "        cv2.imwrite(str(frame_path), image)\n",
    "        success, image = vidcap.read()\n",
    "        count += 1\n",
    "\n",
    "    print(f\"视频 {video_path.name} 已转换为 {count} 帧图像，保存在 {frames_dir} 目录中。\")\n",
    "\n",
    "def process_videos_in_folder(folder_path, frames_base_dir):\n",
    "    folder_path = Path(folder_path)\n",
    "    frames_base_dir = Path(frames_base_dir)\n",
    "\n",
    "    for video_file in folder_path.glob('*.mp4'):\n",
    "        frames_dir = frames_base_dir / video_file.stem\n",
    "        video_to_frames(video_file, frames_dir)\n",
    "\n",
    "videos_folder = ''  \n",
    "frames_base_dir = ''  \n",
    "process_videos_in_folder(videos_folder, frames_base_dir)\n"
   ]
  },
  {
   "cell_type": "code",
   "execution_count": null,
   "id": "2730c742-143c-45fb-b569-9fe7d522f495",
   "metadata": {},
   "outputs": [],
   "source": []
  }
 ],
 "metadata": {
  "kernelspec": {
   "display_name": "faceswap",
   "language": "python",
   "name": "faceswap"
  },
  "language_info": {
   "codemirror_mode": {
    "name": "ipython",
    "version": 3
   },
   "file_extension": ".py",
   "mimetype": "text/x-python",
   "name": "python",
   "nbconvert_exporter": "python",
   "pygments_lexer": "ipython3",
   "version": "3.8.18"
  }
 },
 "nbformat": 4,
 "nbformat_minor": 5
}
